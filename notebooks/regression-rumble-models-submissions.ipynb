{
 "cells": [
  {
   "cell_type": "code",
   "execution_count": 1,
   "id": "13848f55",
   "metadata": {
    "execution": {
     "iopub.execute_input": "2023-05-18T09:48:39.680510Z",
     "iopub.status.busy": "2023-05-18T09:48:39.679156Z",
     "iopub.status.idle": "2023-05-18T09:48:41.096284Z",
     "shell.execute_reply": "2023-05-18T09:48:41.094842Z"
    },
    "papermill": {
     "duration": 1.426721,
     "end_time": "2023-05-18T09:48:41.099659",
     "exception": false,
     "start_time": "2023-05-18T09:48:39.672938",
     "status": "completed"
    },
    "tags": []
   },
   "outputs": [
    {
     "name": "stderr",
     "output_type": "stream",
     "text": [
      "/opt/conda/lib/python3.10/site-packages/scipy/__init__.py:146: UserWarning: A NumPy version >=1.16.5 and <1.23.0 is required for this version of SciPy (detected version 1.23.5\n",
      "  warnings.warn(f\"A NumPy version >={np_minversion} and <{np_maxversion}\"\n"
     ]
    }
   ],
   "source": [
    "import numpy as np\n",
    "import pandas as pd\n",
    "from matplotlib import pyplot as plt\n",
    "from sklearn.linear_model import LinearRegression, SGDRegressor, HuberRegressor, Lars, RANSACRegressor\n",
    "from sklearn.metrics import mean_squared_error\n",
    "\n",
    "pd.set_option(\"display.max_columns\", None)\n",
    "%matplotlib inline\n",
    "rs=1219"
   ]
  },
  {
   "cell_type": "code",
   "execution_count": 2,
   "id": "c3000069",
   "metadata": {
    "execution": {
     "iopub.execute_input": "2023-05-18T09:48:41.114297Z",
     "iopub.status.busy": "2023-05-18T09:48:41.113683Z",
     "iopub.status.idle": "2023-05-18T09:48:41.239213Z",
     "shell.execute_reply": "2023-05-18T09:48:41.237796Z"
    },
    "papermill": {
     "duration": 0.135893,
     "end_time": "2023-05-18T09:48:41.242158",
     "exception": false,
     "start_time": "2023-05-18T09:48:41.106265",
     "status": "completed"
    },
    "tags": []
   },
   "outputs": [],
   "source": [
    "train = pd.read_csv(\"../input/regressionproblem/data.csv\")\n",
    "test = pd.read_csv(\"../input/regressionproblem/test.csv\")"
   ]
  },
  {
   "cell_type": "code",
   "execution_count": 3,
   "id": "69b7c750",
   "metadata": {
    "execution": {
     "iopub.execute_input": "2023-05-18T09:48:41.253358Z",
     "iopub.status.busy": "2023-05-18T09:48:41.252626Z",
     "iopub.status.idle": "2023-05-18T09:48:41.274820Z",
     "shell.execute_reply": "2023-05-18T09:48:41.273962Z"
    },
    "papermill": {
     "duration": 0.030834,
     "end_time": "2023-05-18T09:48:41.277466",
     "exception": false,
     "start_time": "2023-05-18T09:48:41.246632",
     "status": "completed"
    },
    "tags": []
   },
   "outputs": [],
   "source": [
    "train.drop(['x1', 'x2', 'x3', 'x4', 'x5', 'x9'], axis=1, inplace=True)\n",
    "X, y = train.iloc[:,1:-1], train.iloc[:,-1]\n",
    "\n",
    "test.drop(['x1', 'x2', 'x3', 'x4', 'x5', 'x9'], axis=1, inplace=True)\n",
    "kaggle_test = test.iloc[:, 1:]"
   ]
  },
  {
   "cell_type": "code",
   "execution_count": 4,
   "id": "0961bb0d",
   "metadata": {
    "execution": {
     "iopub.execute_input": "2023-05-18T09:48:41.288666Z",
     "iopub.status.busy": "2023-05-18T09:48:41.287963Z",
     "iopub.status.idle": "2023-05-18T09:48:41.296139Z",
     "shell.execute_reply": "2023-05-18T09:48:41.295040Z"
    },
    "papermill": {
     "duration": 0.016971,
     "end_time": "2023-05-18T09:48:41.298899",
     "exception": false,
     "start_time": "2023-05-18T09:48:41.281928",
     "status": "completed"
    },
    "tags": []
   },
   "outputs": [],
   "source": [
    "sgdr_params = {'loss': 'huber',\n",
    "               'penalty': 'l1',\n",
    "               'alpha': 0.00025262140858848636,\n",
    "               'l1_ratio': 0.456027083558146,\n",
    "               'max_iter': 999,\n",
    "               'tol': 0.0002553392247069451,\n",
    "               'epsilon': 0.08735355655286767,\n",
    "               'random_state': rs}\n",
    "\n",
    "huber_params = {'epsilon': 1.9997748237897144,\n",
    "                'alpha': 0.00041436627045792114,\n",
    "                'max_iter': 221,\n",
    "                'tol': 0.000757667687008929}\n",
    "\n",
    "# with ols\n",
    "rsnsa_params = {'min_samples': 5,\n",
    "                'residual_threshold': 0.8400987630435907,\n",
    "                'max_trials': 88,\n",
    "                'stop_probability': 0.9408683129008064,\n",
    "                'loss': 'squared_error',\n",
    "                'random_state': rs}\n",
    "\n",
    "# With lars\n",
    "rsnsa_2_params = {'min_samples': 215,\n",
    "                  'residual_threshold': 0.07606989731943292,\n",
    "                  'max_trials': 239,\n",
    "                  'stop_probability': 0.9514754498763995,\n",
    "                  'loss': 'squared_error'}"
   ]
  },
  {
   "cell_type": "code",
   "execution_count": 5,
   "id": "b8146f88",
   "metadata": {
    "execution": {
     "iopub.execute_input": "2023-05-18T09:48:41.309494Z",
     "iopub.status.busy": "2023-05-18T09:48:41.309126Z",
     "iopub.status.idle": "2023-05-18T09:48:43.207198Z",
     "shell.execute_reply": "2023-05-18T09:48:43.205617Z"
    },
    "papermill": {
     "duration": 1.90838,
     "end_time": "2023-05-18T09:48:43.211821",
     "exception": false,
     "start_time": "2023-05-18T09:48:41.303441",
     "status": "completed"
    },
    "tags": []
   },
   "outputs": [],
   "source": [
    "preds_5 = SGDRegressor(**sgdr_params).fit(X, y).predict(kaggle_test)\n",
    "preds_6 = HuberRegressor(**huber_params).fit(X, y).predict(kaggle_test)\n",
    "preds_7 = RANSACRegressor(estimator=LinearRegression(), **rsnsa_params).fit(X, y).predict(kaggle_test)\n",
    "preds_8 = RANSACRegressor(estimator=Lars(), **rsnsa_2_params).fit(X, y).predict(kaggle_test)"
   ]
  },
  {
   "cell_type": "code",
   "execution_count": 6,
   "id": "1893a3e3",
   "metadata": {
    "execution": {
     "iopub.execute_input": "2023-05-18T09:48:43.233684Z",
     "iopub.status.busy": "2023-05-18T09:48:43.233007Z",
     "iopub.status.idle": "2023-05-18T09:48:43.283181Z",
     "shell.execute_reply": "2023-05-18T09:48:43.281623Z"
    },
    "papermill": {
     "duration": 0.067033,
     "end_time": "2023-05-18T09:48:43.288207",
     "exception": false,
     "start_time": "2023-05-18T09:48:43.221174",
     "status": "completed"
    },
    "tags": []
   },
   "outputs": [],
   "source": [
    "submission_5 = pd.DataFrame({'id': test.id, 'y': preds_5})\n",
    "submission_5.to_csv('submission_5.csv', index=False)"
   ]
  },
  {
   "cell_type": "code",
   "execution_count": 7,
   "id": "723ed387",
   "metadata": {
    "execution": {
     "iopub.execute_input": "2023-05-18T09:48:43.310507Z",
     "iopub.status.busy": "2023-05-18T09:48:43.309841Z",
     "iopub.status.idle": "2023-05-18T09:48:43.343490Z",
     "shell.execute_reply": "2023-05-18T09:48:43.342176Z"
    },
    "papermill": {
     "duration": 0.049433,
     "end_time": "2023-05-18T09:48:43.347073",
     "exception": false,
     "start_time": "2023-05-18T09:48:43.297640",
     "status": "completed"
    },
    "tags": []
   },
   "outputs": [
    {
     "data": {
      "text/html": [
       "<div>\n",
       "<style scoped>\n",
       "    .dataframe tbody tr th:only-of-type {\n",
       "        vertical-align: middle;\n",
       "    }\n",
       "\n",
       "    .dataframe tbody tr th {\n",
       "        vertical-align: top;\n",
       "    }\n",
       "\n",
       "    .dataframe thead th {\n",
       "        text-align: right;\n",
       "    }\n",
       "</style>\n",
       "<table border=\"1\" class=\"dataframe\">\n",
       "  <thead>\n",
       "    <tr style=\"text-align: right;\">\n",
       "      <th></th>\n",
       "      <th>id</th>\n",
       "      <th>y</th>\n",
       "    </tr>\n",
       "  </thead>\n",
       "  <tbody>\n",
       "    <tr>\n",
       "      <th>0</th>\n",
       "      <td>10410</td>\n",
       "      <td>92.255160</td>\n",
       "    </tr>\n",
       "    <tr>\n",
       "      <th>1</th>\n",
       "      <td>718</td>\n",
       "      <td>-225.251655</td>\n",
       "    </tr>\n",
       "    <tr>\n",
       "      <th>2</th>\n",
       "      <td>5931</td>\n",
       "      <td>151.947340</td>\n",
       "    </tr>\n",
       "    <tr>\n",
       "      <th>3</th>\n",
       "      <td>4083</td>\n",
       "      <td>-90.633955</td>\n",
       "    </tr>\n",
       "    <tr>\n",
       "      <th>4</th>\n",
       "      <td>210</td>\n",
       "      <td>-44.478947</td>\n",
       "    </tr>\n",
       "    <tr>\n",
       "      <th>...</th>\n",
       "      <td>...</td>\n",
       "      <td>...</td>\n",
       "    </tr>\n",
       "    <tr>\n",
       "      <th>2995</th>\n",
       "      <td>5513</td>\n",
       "      <td>-119.519605</td>\n",
       "    </tr>\n",
       "    <tr>\n",
       "      <th>2996</th>\n",
       "      <td>12429</td>\n",
       "      <td>110.401730</td>\n",
       "    </tr>\n",
       "    <tr>\n",
       "      <th>2997</th>\n",
       "      <td>6164</td>\n",
       "      <td>-186.516889</td>\n",
       "    </tr>\n",
       "    <tr>\n",
       "      <th>2998</th>\n",
       "      <td>8702</td>\n",
       "      <td>-42.588200</td>\n",
       "    </tr>\n",
       "    <tr>\n",
       "      <th>2999</th>\n",
       "      <td>7577</td>\n",
       "      <td>-23.047117</td>\n",
       "    </tr>\n",
       "  </tbody>\n",
       "</table>\n",
       "<p>3000 rows × 2 columns</p>\n",
       "</div>"
      ],
      "text/plain": [
       "         id           y\n",
       "0     10410   92.255160\n",
       "1       718 -225.251655\n",
       "2      5931  151.947340\n",
       "3      4083  -90.633955\n",
       "4       210  -44.478947\n",
       "...     ...         ...\n",
       "2995   5513 -119.519605\n",
       "2996  12429  110.401730\n",
       "2997   6164 -186.516889\n",
       "2998   8702  -42.588200\n",
       "2999   7577  -23.047117\n",
       "\n",
       "[3000 rows x 2 columns]"
      ]
     },
     "execution_count": 7,
     "metadata": {},
     "output_type": "execute_result"
    }
   ],
   "source": [
    "submission_5"
   ]
  },
  {
   "cell_type": "code",
   "execution_count": 8,
   "id": "d2e7e3f5",
   "metadata": {
    "execution": {
     "iopub.execute_input": "2023-05-18T09:48:43.358466Z",
     "iopub.status.busy": "2023-05-18T09:48:43.358071Z",
     "iopub.status.idle": "2023-05-18T09:48:43.377874Z",
     "shell.execute_reply": "2023-05-18T09:48:43.376707Z"
    },
    "papermill": {
     "duration": 0.028937,
     "end_time": "2023-05-18T09:48:43.380865",
     "exception": false,
     "start_time": "2023-05-18T09:48:43.351928",
     "status": "completed"
    },
    "tags": []
   },
   "outputs": [],
   "source": [
    "submission_6 = pd.DataFrame({'id': test.id, 'y': preds_6})\n",
    "submission_6.to_csv('submission_6.csv', index=False)"
   ]
  },
  {
   "cell_type": "code",
   "execution_count": 9,
   "id": "67358211",
   "metadata": {
    "execution": {
     "iopub.execute_input": "2023-05-18T09:48:43.392595Z",
     "iopub.status.busy": "2023-05-18T09:48:43.392167Z",
     "iopub.status.idle": "2023-05-18T09:48:43.405284Z",
     "shell.execute_reply": "2023-05-18T09:48:43.404243Z"
    },
    "papermill": {
     "duration": 0.021883,
     "end_time": "2023-05-18T09:48:43.407802",
     "exception": false,
     "start_time": "2023-05-18T09:48:43.385919",
     "status": "completed"
    },
    "tags": []
   },
   "outputs": [
    {
     "data": {
      "text/html": [
       "<div>\n",
       "<style scoped>\n",
       "    .dataframe tbody tr th:only-of-type {\n",
       "        vertical-align: middle;\n",
       "    }\n",
       "\n",
       "    .dataframe tbody tr th {\n",
       "        vertical-align: top;\n",
       "    }\n",
       "\n",
       "    .dataframe thead th {\n",
       "        text-align: right;\n",
       "    }\n",
       "</style>\n",
       "<table border=\"1\" class=\"dataframe\">\n",
       "  <thead>\n",
       "    <tr style=\"text-align: right;\">\n",
       "      <th></th>\n",
       "      <th>id</th>\n",
       "      <th>y</th>\n",
       "    </tr>\n",
       "  </thead>\n",
       "  <tbody>\n",
       "    <tr>\n",
       "      <th>0</th>\n",
       "      <td>10410</td>\n",
       "      <td>92.254664</td>\n",
       "    </tr>\n",
       "    <tr>\n",
       "      <th>1</th>\n",
       "      <td>718</td>\n",
       "      <td>-225.251322</td>\n",
       "    </tr>\n",
       "    <tr>\n",
       "      <th>2</th>\n",
       "      <td>5931</td>\n",
       "      <td>151.950546</td>\n",
       "    </tr>\n",
       "    <tr>\n",
       "      <th>3</th>\n",
       "      <td>4083</td>\n",
       "      <td>-90.633698</td>\n",
       "    </tr>\n",
       "    <tr>\n",
       "      <th>4</th>\n",
       "      <td>210</td>\n",
       "      <td>-44.480845</td>\n",
       "    </tr>\n",
       "    <tr>\n",
       "      <th>...</th>\n",
       "      <td>...</td>\n",
       "      <td>...</td>\n",
       "    </tr>\n",
       "    <tr>\n",
       "      <th>2995</th>\n",
       "      <td>5513</td>\n",
       "      <td>-119.519845</td>\n",
       "    </tr>\n",
       "    <tr>\n",
       "      <th>2996</th>\n",
       "      <td>12429</td>\n",
       "      <td>110.401977</td>\n",
       "    </tr>\n",
       "    <tr>\n",
       "      <th>2997</th>\n",
       "      <td>6164</td>\n",
       "      <td>-186.515889</td>\n",
       "    </tr>\n",
       "    <tr>\n",
       "      <th>2998</th>\n",
       "      <td>8702</td>\n",
       "      <td>-42.588879</td>\n",
       "    </tr>\n",
       "    <tr>\n",
       "      <th>2999</th>\n",
       "      <td>7577</td>\n",
       "      <td>-23.047365</td>\n",
       "    </tr>\n",
       "  </tbody>\n",
       "</table>\n",
       "<p>3000 rows × 2 columns</p>\n",
       "</div>"
      ],
      "text/plain": [
       "         id           y\n",
       "0     10410   92.254664\n",
       "1       718 -225.251322\n",
       "2      5931  151.950546\n",
       "3      4083  -90.633698\n",
       "4       210  -44.480845\n",
       "...     ...         ...\n",
       "2995   5513 -119.519845\n",
       "2996  12429  110.401977\n",
       "2997   6164 -186.515889\n",
       "2998   8702  -42.588879\n",
       "2999   7577  -23.047365\n",
       "\n",
       "[3000 rows x 2 columns]"
      ]
     },
     "execution_count": 9,
     "metadata": {},
     "output_type": "execute_result"
    }
   ],
   "source": [
    "submission_6"
   ]
  },
  {
   "cell_type": "code",
   "execution_count": 10,
   "id": "b32b2f53",
   "metadata": {
    "execution": {
     "iopub.execute_input": "2023-05-18T09:48:43.422126Z",
     "iopub.status.busy": "2023-05-18T09:48:43.419929Z",
     "iopub.status.idle": "2023-05-18T09:48:43.440864Z",
     "shell.execute_reply": "2023-05-18T09:48:43.439582Z"
    },
    "papermill": {
     "duration": 0.030431,
     "end_time": "2023-05-18T09:48:43.443768",
     "exception": false,
     "start_time": "2023-05-18T09:48:43.413337",
     "status": "completed"
    },
    "tags": []
   },
   "outputs": [],
   "source": [
    "submission_7 = pd.DataFrame({'id': test.id, 'y': preds_7})\n",
    "submission_7.to_csv('submission_7.csv', index=False)"
   ]
  },
  {
   "cell_type": "code",
   "execution_count": 11,
   "id": "223da380",
   "metadata": {
    "execution": {
     "iopub.execute_input": "2023-05-18T09:48:43.456558Z",
     "iopub.status.busy": "2023-05-18T09:48:43.456150Z",
     "iopub.status.idle": "2023-05-18T09:48:43.468599Z",
     "shell.execute_reply": "2023-05-18T09:48:43.467497Z"
    },
    "papermill": {
     "duration": 0.021651,
     "end_time": "2023-05-18T09:48:43.470963",
     "exception": false,
     "start_time": "2023-05-18T09:48:43.449312",
     "status": "completed"
    },
    "tags": []
   },
   "outputs": [
    {
     "data": {
      "text/html": [
       "<div>\n",
       "<style scoped>\n",
       "    .dataframe tbody tr th:only-of-type {\n",
       "        vertical-align: middle;\n",
       "    }\n",
       "\n",
       "    .dataframe tbody tr th {\n",
       "        vertical-align: top;\n",
       "    }\n",
       "\n",
       "    .dataframe thead th {\n",
       "        text-align: right;\n",
       "    }\n",
       "</style>\n",
       "<table border=\"1\" class=\"dataframe\">\n",
       "  <thead>\n",
       "    <tr style=\"text-align: right;\">\n",
       "      <th></th>\n",
       "      <th>id</th>\n",
       "      <th>y</th>\n",
       "    </tr>\n",
       "  </thead>\n",
       "  <tbody>\n",
       "    <tr>\n",
       "      <th>0</th>\n",
       "      <td>10410</td>\n",
       "      <td>92.265183</td>\n",
       "    </tr>\n",
       "    <tr>\n",
       "      <th>1</th>\n",
       "      <td>718</td>\n",
       "      <td>-225.260018</td>\n",
       "    </tr>\n",
       "    <tr>\n",
       "      <th>2</th>\n",
       "      <td>5931</td>\n",
       "      <td>151.925127</td>\n",
       "    </tr>\n",
       "    <tr>\n",
       "      <th>3</th>\n",
       "      <td>4083</td>\n",
       "      <td>-90.634372</td>\n",
       "    </tr>\n",
       "    <tr>\n",
       "      <th>4</th>\n",
       "      <td>210</td>\n",
       "      <td>-44.455224</td>\n",
       "    </tr>\n",
       "    <tr>\n",
       "      <th>...</th>\n",
       "      <td>...</td>\n",
       "      <td>...</td>\n",
       "    </tr>\n",
       "    <tr>\n",
       "      <th>2995</th>\n",
       "      <td>5513</td>\n",
       "      <td>-119.507791</td>\n",
       "    </tr>\n",
       "    <tr>\n",
       "      <th>2996</th>\n",
       "      <td>12429</td>\n",
       "      <td>110.404776</td>\n",
       "    </tr>\n",
       "    <tr>\n",
       "      <th>2997</th>\n",
       "      <td>6164</td>\n",
       "      <td>-186.527689</td>\n",
       "    </tr>\n",
       "    <tr>\n",
       "      <th>2998</th>\n",
       "      <td>8702</td>\n",
       "      <td>-42.581296</td>\n",
       "    </tr>\n",
       "    <tr>\n",
       "      <th>2999</th>\n",
       "      <td>7577</td>\n",
       "      <td>-23.039420</td>\n",
       "    </tr>\n",
       "  </tbody>\n",
       "</table>\n",
       "<p>3000 rows × 2 columns</p>\n",
       "</div>"
      ],
      "text/plain": [
       "         id           y\n",
       "0     10410   92.265183\n",
       "1       718 -225.260018\n",
       "2      5931  151.925127\n",
       "3      4083  -90.634372\n",
       "4       210  -44.455224\n",
       "...     ...         ...\n",
       "2995   5513 -119.507791\n",
       "2996  12429  110.404776\n",
       "2997   6164 -186.527689\n",
       "2998   8702  -42.581296\n",
       "2999   7577  -23.039420\n",
       "\n",
       "[3000 rows x 2 columns]"
      ]
     },
     "execution_count": 11,
     "metadata": {},
     "output_type": "execute_result"
    }
   ],
   "source": [
    "submission_7"
   ]
  },
  {
   "cell_type": "code",
   "execution_count": 12,
   "id": "d82c06a0",
   "metadata": {
    "execution": {
     "iopub.execute_input": "2023-05-18T09:48:43.484289Z",
     "iopub.status.busy": "2023-05-18T09:48:43.483905Z",
     "iopub.status.idle": "2023-05-18T09:48:43.503124Z",
     "shell.execute_reply": "2023-05-18T09:48:43.502129Z"
    },
    "papermill": {
     "duration": 0.029246,
     "end_time": "2023-05-18T09:48:43.505937",
     "exception": false,
     "start_time": "2023-05-18T09:48:43.476691",
     "status": "completed"
    },
    "tags": []
   },
   "outputs": [],
   "source": [
    "submission_8 = pd.DataFrame({'id': test.id, 'y': preds_8})\n",
    "submission_8.to_csv('submission_8.csv', index=False)"
   ]
  },
  {
   "cell_type": "code",
   "execution_count": 13,
   "id": "4e4bc0c8",
   "metadata": {
    "execution": {
     "iopub.execute_input": "2023-05-18T09:48:43.519340Z",
     "iopub.status.busy": "2023-05-18T09:48:43.518848Z",
     "iopub.status.idle": "2023-05-18T09:48:43.531015Z",
     "shell.execute_reply": "2023-05-18T09:48:43.530127Z"
    },
    "papermill": {
     "duration": 0.021708,
     "end_time": "2023-05-18T09:48:43.533631",
     "exception": false,
     "start_time": "2023-05-18T09:48:43.511923",
     "status": "completed"
    },
    "tags": []
   },
   "outputs": [
    {
     "data": {
      "text/html": [
       "<div>\n",
       "<style scoped>\n",
       "    .dataframe tbody tr th:only-of-type {\n",
       "        vertical-align: middle;\n",
       "    }\n",
       "\n",
       "    .dataframe tbody tr th {\n",
       "        vertical-align: top;\n",
       "    }\n",
       "\n",
       "    .dataframe thead th {\n",
       "        text-align: right;\n",
       "    }\n",
       "</style>\n",
       "<table border=\"1\" class=\"dataframe\">\n",
       "  <thead>\n",
       "    <tr style=\"text-align: right;\">\n",
       "      <th></th>\n",
       "      <th>id</th>\n",
       "      <th>y</th>\n",
       "    </tr>\n",
       "  </thead>\n",
       "  <tbody>\n",
       "    <tr>\n",
       "      <th>0</th>\n",
       "      <td>10410</td>\n",
       "      <td>92.255032</td>\n",
       "    </tr>\n",
       "    <tr>\n",
       "      <th>1</th>\n",
       "      <td>718</td>\n",
       "      <td>-225.244733</td>\n",
       "    </tr>\n",
       "    <tr>\n",
       "      <th>2</th>\n",
       "      <td>5931</td>\n",
       "      <td>151.953128</td>\n",
       "    </tr>\n",
       "    <tr>\n",
       "      <th>3</th>\n",
       "      <td>4083</td>\n",
       "      <td>-90.630045</td>\n",
       "    </tr>\n",
       "    <tr>\n",
       "      <th>4</th>\n",
       "      <td>210</td>\n",
       "      <td>-44.479927</td>\n",
       "    </tr>\n",
       "    <tr>\n",
       "      <th>...</th>\n",
       "      <td>...</td>\n",
       "      <td>...</td>\n",
       "    </tr>\n",
       "    <tr>\n",
       "      <th>2995</th>\n",
       "      <td>5513</td>\n",
       "      <td>-119.515850</td>\n",
       "    </tr>\n",
       "    <tr>\n",
       "      <th>2996</th>\n",
       "      <td>12429</td>\n",
       "      <td>110.402085</td>\n",
       "    </tr>\n",
       "    <tr>\n",
       "      <th>2997</th>\n",
       "      <td>6164</td>\n",
       "      <td>-186.508409</td>\n",
       "    </tr>\n",
       "    <tr>\n",
       "      <th>2998</th>\n",
       "      <td>8702</td>\n",
       "      <td>-42.585474</td>\n",
       "    </tr>\n",
       "    <tr>\n",
       "      <th>2999</th>\n",
       "      <td>7577</td>\n",
       "      <td>-23.044448</td>\n",
       "    </tr>\n",
       "  </tbody>\n",
       "</table>\n",
       "<p>3000 rows × 2 columns</p>\n",
       "</div>"
      ],
      "text/plain": [
       "         id           y\n",
       "0     10410   92.255032\n",
       "1       718 -225.244733\n",
       "2      5931  151.953128\n",
       "3      4083  -90.630045\n",
       "4       210  -44.479927\n",
       "...     ...         ...\n",
       "2995   5513 -119.515850\n",
       "2996  12429  110.402085\n",
       "2997   6164 -186.508409\n",
       "2998   8702  -42.585474\n",
       "2999   7577  -23.044448\n",
       "\n",
       "[3000 rows x 2 columns]"
      ]
     },
     "execution_count": 13,
     "metadata": {},
     "output_type": "execute_result"
    }
   ],
   "source": [
    "submission_8"
   ]
  }
 ],
 "metadata": {
  "kernelspec": {
   "display_name": "Python 3",
   "language": "python",
   "name": "python3"
  },
  "language_info": {
   "codemirror_mode": {
    "name": "ipython",
    "version": 3
   },
   "file_extension": ".py",
   "mimetype": "text/x-python",
   "name": "python",
   "nbconvert_exporter": "python",
   "pygments_lexer": "ipython3",
   "version": "3.10.10"
  },
  "papermill": {
   "default_parameters": {},
   "duration": 16.946502,
   "end_time": "2023-05-18T09:48:44.460784",
   "environment_variables": {},
   "exception": null,
   "input_path": "__notebook__.ipynb",
   "output_path": "__notebook__.ipynb",
   "parameters": {},
   "start_time": "2023-05-18T09:48:27.514282",
   "version": "2.4.0"
  }
 },
 "nbformat": 4,
 "nbformat_minor": 5
}
