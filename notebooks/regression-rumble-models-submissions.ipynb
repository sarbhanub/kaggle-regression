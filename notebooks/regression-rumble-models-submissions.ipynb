{
 "cells": [
  {
   "cell_type": "code",
   "execution_count": 1,
   "id": "989659fd",
   "metadata": {
    "execution": {
     "iopub.execute_input": "2023-05-17T20:09:43.906481Z",
     "iopub.status.busy": "2023-05-17T20:09:43.906073Z",
     "iopub.status.idle": "2023-05-17T20:09:45.156736Z",
     "shell.execute_reply": "2023-05-17T20:09:45.155559Z"
    },
    "papermill": {
     "duration": 1.260166,
     "end_time": "2023-05-17T20:09:45.159750",
     "exception": false,
     "start_time": "2023-05-17T20:09:43.899584",
     "status": "completed"
    },
    "tags": []
   },
   "outputs": [
    {
     "name": "stderr",
     "output_type": "stream",
     "text": [
      "/opt/conda/lib/python3.10/site-packages/scipy/__init__.py:146: UserWarning: A NumPy version >=1.16.5 and <1.23.0 is required for this version of SciPy (detected version 1.23.5\n",
      "  warnings.warn(f\"A NumPy version >={np_minversion} and <{np_maxversion}\"\n"
     ]
    }
   ],
   "source": [
    "import numpy as np\n",
    "import pandas as pd\n",
    "from matplotlib import pyplot as plt\n",
    "from sklearn.linear_model import LinearRegression, SGDRegressor, HuberRegressor, RANSACRegressor\n",
    "from sklearn.metrics import mean_squared_error\n",
    "\n",
    "pd.set_option(\"display.max_columns\", None)\n",
    "%matplotlib inline\n",
    "rs=1219"
   ]
  },
  {
   "cell_type": "code",
   "execution_count": 2,
   "id": "7444c9ef",
   "metadata": {
    "execution": {
     "iopub.execute_input": "2023-05-17T20:09:45.170810Z",
     "iopub.status.busy": "2023-05-17T20:09:45.170410Z",
     "iopub.status.idle": "2023-05-17T20:09:45.280254Z",
     "shell.execute_reply": "2023-05-17T20:09:45.279408Z"
    },
    "papermill": {
     "duration": 0.11827,
     "end_time": "2023-05-17T20:09:45.282912",
     "exception": false,
     "start_time": "2023-05-17T20:09:45.164642",
     "status": "completed"
    },
    "tags": []
   },
   "outputs": [],
   "source": [
    "train = pd.read_csv(\"../input/regressionproblem/data.csv\")\n",
    "test = pd.read_csv(\"../input/regressionproblem/test.csv\")"
   ]
  },
  {
   "cell_type": "code",
   "execution_count": 3,
   "id": "f23c1100",
   "metadata": {
    "execution": {
     "iopub.execute_input": "2023-05-17T20:09:45.293945Z",
     "iopub.status.busy": "2023-05-17T20:09:45.293302Z",
     "iopub.status.idle": "2023-05-17T20:09:45.312789Z",
     "shell.execute_reply": "2023-05-17T20:09:45.311908Z"
    },
    "papermill": {
     "duration": 0.027587,
     "end_time": "2023-05-17T20:09:45.315219",
     "exception": false,
     "start_time": "2023-05-17T20:09:45.287632",
     "status": "completed"
    },
    "tags": []
   },
   "outputs": [],
   "source": [
    "train.drop(['x1', 'x2', 'x3', 'x4', 'x5', 'x9'], axis=1, inplace=True)\n",
    "X, y = train.iloc[:,1:-1], train.iloc[:,-1]\n",
    "\n",
    "test.drop(['x1', 'x2', 'x3', 'x4', 'x5', 'x9'], axis=1, inplace=True)\n",
    "kaggle_test = test.iloc[:, 1:]"
   ]
  },
  {
   "cell_type": "code",
   "execution_count": 4,
   "id": "35c5d8f0",
   "metadata": {
    "execution": {
     "iopub.execute_input": "2023-05-17T20:09:45.326203Z",
     "iopub.status.busy": "2023-05-17T20:09:45.325789Z",
     "iopub.status.idle": "2023-05-17T20:09:45.333436Z",
     "shell.execute_reply": "2023-05-17T20:09:45.332199Z"
    },
    "papermill": {
     "duration": 0.016028,
     "end_time": "2023-05-17T20:09:45.335877",
     "exception": false,
     "start_time": "2023-05-17T20:09:45.319849",
     "status": "completed"
    },
    "tags": []
   },
   "outputs": [],
   "source": [
    "sgdr_params = {'loss': 'huber',\n",
    "               'penalty': 'l1',\n",
    "               'alpha': 0.00025262140858848636,\n",
    "               'l1_ratio': 0.456027083558146,\n",
    "               'max_iter': 999,\n",
    "               'tol': 0.0002553392247069451,\n",
    "               'epsilon': 0.08735355655286767,\n",
    "               'random_state': rs}\n",
    "\n",
    "huber_params = {'epsilon': 1.9997748237897144,\n",
    "                'alpha': 0.00041436627045792114,\n",
    "                'max_iter': 221,\n",
    "                'tol': 0.000757667687008929}\n",
    "\n",
    "rsnsa_params = {'min_samples': 5,\n",
    "                'residual_threshold': 0.8400987630435907,\n",
    "                'max_trials': 88,\n",
    "                'stop_probability': 0.9408683129008064,\n",
    "                'loss': 'squared_error',\n",
    "                'random_state': rs}"
   ]
  },
  {
   "cell_type": "code",
   "execution_count": 5,
   "id": "341db7c2",
   "metadata": {
    "execution": {
     "iopub.execute_input": "2023-05-17T20:09:45.346730Z",
     "iopub.status.busy": "2023-05-17T20:09:45.346356Z",
     "iopub.status.idle": "2023-05-17T20:09:46.261673Z",
     "shell.execute_reply": "2023-05-17T20:09:46.260118Z"
    },
    "papermill": {
     "duration": 0.925862,
     "end_time": "2023-05-17T20:09:46.266410",
     "exception": false,
     "start_time": "2023-05-17T20:09:45.340548",
     "status": "completed"
    },
    "tags": []
   },
   "outputs": [],
   "source": [
    "preds_5 = SGDRegressor(**sgdr_params).fit(X, y).predict(kaggle_test)\n",
    "preds_6 = HuberRegressor(**huber_params).fit(X, y).predict(kaggle_test)\n",
    "preds_7 = RANSACRegressor(estimator=LinearRegression(), **rsnsa_params).fit(X, y).predict(kaggle_test)"
   ]
  },
  {
   "cell_type": "code",
   "execution_count": 6,
   "id": "12a9faca",
   "metadata": {
    "execution": {
     "iopub.execute_input": "2023-05-17T20:09:46.287101Z",
     "iopub.status.busy": "2023-05-17T20:09:46.286432Z",
     "iopub.status.idle": "2023-05-17T20:09:46.335428Z",
     "shell.execute_reply": "2023-05-17T20:09:46.333880Z"
    },
    "papermill": {
     "duration": 0.064824,
     "end_time": "2023-05-17T20:09:46.340479",
     "exception": false,
     "start_time": "2023-05-17T20:09:46.275655",
     "status": "completed"
    },
    "tags": []
   },
   "outputs": [],
   "source": [
    "submission_5 = pd.DataFrame({'id': test.id, 'y': preds_5})\n",
    "submission_5.to_csv('submission_5.csv', index=False)"
   ]
  },
  {
   "cell_type": "code",
   "execution_count": 7,
   "id": "dd45e5dc",
   "metadata": {
    "execution": {
     "iopub.execute_input": "2023-05-17T20:09:46.362386Z",
     "iopub.status.busy": "2023-05-17T20:09:46.361700Z",
     "iopub.status.idle": "2023-05-17T20:09:46.396214Z",
     "shell.execute_reply": "2023-05-17T20:09:46.395373Z"
    },
    "papermill": {
     "duration": 0.047839,
     "end_time": "2023-05-17T20:09:46.398295",
     "exception": false,
     "start_time": "2023-05-17T20:09:46.350456",
     "status": "completed"
    },
    "tags": []
   },
   "outputs": [
    {
     "data": {
      "text/html": [
       "<div>\n",
       "<style scoped>\n",
       "    .dataframe tbody tr th:only-of-type {\n",
       "        vertical-align: middle;\n",
       "    }\n",
       "\n",
       "    .dataframe tbody tr th {\n",
       "        vertical-align: top;\n",
       "    }\n",
       "\n",
       "    .dataframe thead th {\n",
       "        text-align: right;\n",
       "    }\n",
       "</style>\n",
       "<table border=\"1\" class=\"dataframe\">\n",
       "  <thead>\n",
       "    <tr style=\"text-align: right;\">\n",
       "      <th></th>\n",
       "      <th>id</th>\n",
       "      <th>y</th>\n",
       "    </tr>\n",
       "  </thead>\n",
       "  <tbody>\n",
       "    <tr>\n",
       "      <th>0</th>\n",
       "      <td>10410</td>\n",
       "      <td>92.255160</td>\n",
       "    </tr>\n",
       "    <tr>\n",
       "      <th>1</th>\n",
       "      <td>718</td>\n",
       "      <td>-225.251655</td>\n",
       "    </tr>\n",
       "    <tr>\n",
       "      <th>2</th>\n",
       "      <td>5931</td>\n",
       "      <td>151.947340</td>\n",
       "    </tr>\n",
       "    <tr>\n",
       "      <th>3</th>\n",
       "      <td>4083</td>\n",
       "      <td>-90.633955</td>\n",
       "    </tr>\n",
       "    <tr>\n",
       "      <th>4</th>\n",
       "      <td>210</td>\n",
       "      <td>-44.478947</td>\n",
       "    </tr>\n",
       "    <tr>\n",
       "      <th>...</th>\n",
       "      <td>...</td>\n",
       "      <td>...</td>\n",
       "    </tr>\n",
       "    <tr>\n",
       "      <th>2995</th>\n",
       "      <td>5513</td>\n",
       "      <td>-119.519605</td>\n",
       "    </tr>\n",
       "    <tr>\n",
       "      <th>2996</th>\n",
       "      <td>12429</td>\n",
       "      <td>110.401730</td>\n",
       "    </tr>\n",
       "    <tr>\n",
       "      <th>2997</th>\n",
       "      <td>6164</td>\n",
       "      <td>-186.516889</td>\n",
       "    </tr>\n",
       "    <tr>\n",
       "      <th>2998</th>\n",
       "      <td>8702</td>\n",
       "      <td>-42.588200</td>\n",
       "    </tr>\n",
       "    <tr>\n",
       "      <th>2999</th>\n",
       "      <td>7577</td>\n",
       "      <td>-23.047117</td>\n",
       "    </tr>\n",
       "  </tbody>\n",
       "</table>\n",
       "<p>3000 rows × 2 columns</p>\n",
       "</div>"
      ],
      "text/plain": [
       "         id           y\n",
       "0     10410   92.255160\n",
       "1       718 -225.251655\n",
       "2      5931  151.947340\n",
       "3      4083  -90.633955\n",
       "4       210  -44.478947\n",
       "...     ...         ...\n",
       "2995   5513 -119.519605\n",
       "2996  12429  110.401730\n",
       "2997   6164 -186.516889\n",
       "2998   8702  -42.588200\n",
       "2999   7577  -23.047117\n",
       "\n",
       "[3000 rows x 2 columns]"
      ]
     },
     "execution_count": 7,
     "metadata": {},
     "output_type": "execute_result"
    }
   ],
   "source": [
    "submission_5"
   ]
  },
  {
   "cell_type": "code",
   "execution_count": 8,
   "id": "58c8f276",
   "metadata": {
    "execution": {
     "iopub.execute_input": "2023-05-17T20:09:46.410060Z",
     "iopub.status.busy": "2023-05-17T20:09:46.409373Z",
     "iopub.status.idle": "2023-05-17T20:09:46.428149Z",
     "shell.execute_reply": "2023-05-17T20:09:46.426758Z"
    },
    "papermill": {
     "duration": 0.027828,
     "end_time": "2023-05-17T20:09:46.431035",
     "exception": false,
     "start_time": "2023-05-17T20:09:46.403207",
     "status": "completed"
    },
    "tags": []
   },
   "outputs": [],
   "source": [
    "submission_6 = pd.DataFrame({'id': test.id, 'y': preds_6})\n",
    "submission_6.to_csv('submission_6.csv', index=False)"
   ]
  },
  {
   "cell_type": "code",
   "execution_count": 9,
   "id": "7686b22f",
   "metadata": {
    "execution": {
     "iopub.execute_input": "2023-05-17T20:09:46.442573Z",
     "iopub.status.busy": "2023-05-17T20:09:46.442138Z",
     "iopub.status.idle": "2023-05-17T20:09:46.455074Z",
     "shell.execute_reply": "2023-05-17T20:09:46.453928Z"
    },
    "papermill": {
     "duration": 0.021964,
     "end_time": "2023-05-17T20:09:46.457935",
     "exception": false,
     "start_time": "2023-05-17T20:09:46.435971",
     "status": "completed"
    },
    "tags": []
   },
   "outputs": [
    {
     "data": {
      "text/html": [
       "<div>\n",
       "<style scoped>\n",
       "    .dataframe tbody tr th:only-of-type {\n",
       "        vertical-align: middle;\n",
       "    }\n",
       "\n",
       "    .dataframe tbody tr th {\n",
       "        vertical-align: top;\n",
       "    }\n",
       "\n",
       "    .dataframe thead th {\n",
       "        text-align: right;\n",
       "    }\n",
       "</style>\n",
       "<table border=\"1\" class=\"dataframe\">\n",
       "  <thead>\n",
       "    <tr style=\"text-align: right;\">\n",
       "      <th></th>\n",
       "      <th>id</th>\n",
       "      <th>y</th>\n",
       "    </tr>\n",
       "  </thead>\n",
       "  <tbody>\n",
       "    <tr>\n",
       "      <th>0</th>\n",
       "      <td>10410</td>\n",
       "      <td>92.254664</td>\n",
       "    </tr>\n",
       "    <tr>\n",
       "      <th>1</th>\n",
       "      <td>718</td>\n",
       "      <td>-225.251322</td>\n",
       "    </tr>\n",
       "    <tr>\n",
       "      <th>2</th>\n",
       "      <td>5931</td>\n",
       "      <td>151.950546</td>\n",
       "    </tr>\n",
       "    <tr>\n",
       "      <th>3</th>\n",
       "      <td>4083</td>\n",
       "      <td>-90.633698</td>\n",
       "    </tr>\n",
       "    <tr>\n",
       "      <th>4</th>\n",
       "      <td>210</td>\n",
       "      <td>-44.480845</td>\n",
       "    </tr>\n",
       "    <tr>\n",
       "      <th>...</th>\n",
       "      <td>...</td>\n",
       "      <td>...</td>\n",
       "    </tr>\n",
       "    <tr>\n",
       "      <th>2995</th>\n",
       "      <td>5513</td>\n",
       "      <td>-119.519845</td>\n",
       "    </tr>\n",
       "    <tr>\n",
       "      <th>2996</th>\n",
       "      <td>12429</td>\n",
       "      <td>110.401977</td>\n",
       "    </tr>\n",
       "    <tr>\n",
       "      <th>2997</th>\n",
       "      <td>6164</td>\n",
       "      <td>-186.515889</td>\n",
       "    </tr>\n",
       "    <tr>\n",
       "      <th>2998</th>\n",
       "      <td>8702</td>\n",
       "      <td>-42.588879</td>\n",
       "    </tr>\n",
       "    <tr>\n",
       "      <th>2999</th>\n",
       "      <td>7577</td>\n",
       "      <td>-23.047365</td>\n",
       "    </tr>\n",
       "  </tbody>\n",
       "</table>\n",
       "<p>3000 rows × 2 columns</p>\n",
       "</div>"
      ],
      "text/plain": [
       "         id           y\n",
       "0     10410   92.254664\n",
       "1       718 -225.251322\n",
       "2      5931  151.950546\n",
       "3      4083  -90.633698\n",
       "4       210  -44.480845\n",
       "...     ...         ...\n",
       "2995   5513 -119.519845\n",
       "2996  12429  110.401977\n",
       "2997   6164 -186.515889\n",
       "2998   8702  -42.588879\n",
       "2999   7577  -23.047365\n",
       "\n",
       "[3000 rows x 2 columns]"
      ]
     },
     "execution_count": 9,
     "metadata": {},
     "output_type": "execute_result"
    }
   ],
   "source": [
    "submission_6"
   ]
  },
  {
   "cell_type": "code",
   "execution_count": 10,
   "id": "8a8022ed",
   "metadata": {
    "execution": {
     "iopub.execute_input": "2023-05-17T20:09:46.470589Z",
     "iopub.status.busy": "2023-05-17T20:09:46.469833Z",
     "iopub.status.idle": "2023-05-17T20:09:46.489710Z",
     "shell.execute_reply": "2023-05-17T20:09:46.488501Z"
    },
    "papermill": {
     "duration": 0.02925,
     "end_time": "2023-05-17T20:09:46.492569",
     "exception": false,
     "start_time": "2023-05-17T20:09:46.463319",
     "status": "completed"
    },
    "tags": []
   },
   "outputs": [],
   "source": [
    "submission_7 = pd.DataFrame({'id': test.id, 'y': preds_7})\n",
    "submission_7.to_csv('submission_7.csv', index=False)"
   ]
  },
  {
   "cell_type": "code",
   "execution_count": 11,
   "id": "be190bbe",
   "metadata": {
    "execution": {
     "iopub.execute_input": "2023-05-17T20:09:46.504660Z",
     "iopub.status.busy": "2023-05-17T20:09:46.504235Z",
     "iopub.status.idle": "2023-05-17T20:09:46.517120Z",
     "shell.execute_reply": "2023-05-17T20:09:46.515922Z"
    },
    "papermill": {
     "duration": 0.021766,
     "end_time": "2023-05-17T20:09:46.519507",
     "exception": false,
     "start_time": "2023-05-17T20:09:46.497741",
     "status": "completed"
    },
    "tags": []
   },
   "outputs": [
    {
     "data": {
      "text/html": [
       "<div>\n",
       "<style scoped>\n",
       "    .dataframe tbody tr th:only-of-type {\n",
       "        vertical-align: middle;\n",
       "    }\n",
       "\n",
       "    .dataframe tbody tr th {\n",
       "        vertical-align: top;\n",
       "    }\n",
       "\n",
       "    .dataframe thead th {\n",
       "        text-align: right;\n",
       "    }\n",
       "</style>\n",
       "<table border=\"1\" class=\"dataframe\">\n",
       "  <thead>\n",
       "    <tr style=\"text-align: right;\">\n",
       "      <th></th>\n",
       "      <th>id</th>\n",
       "      <th>y</th>\n",
       "    </tr>\n",
       "  </thead>\n",
       "  <tbody>\n",
       "    <tr>\n",
       "      <th>0</th>\n",
       "      <td>10410</td>\n",
       "      <td>92.265183</td>\n",
       "    </tr>\n",
       "    <tr>\n",
       "      <th>1</th>\n",
       "      <td>718</td>\n",
       "      <td>-225.260018</td>\n",
       "    </tr>\n",
       "    <tr>\n",
       "      <th>2</th>\n",
       "      <td>5931</td>\n",
       "      <td>151.925127</td>\n",
       "    </tr>\n",
       "    <tr>\n",
       "      <th>3</th>\n",
       "      <td>4083</td>\n",
       "      <td>-90.634372</td>\n",
       "    </tr>\n",
       "    <tr>\n",
       "      <th>4</th>\n",
       "      <td>210</td>\n",
       "      <td>-44.455224</td>\n",
       "    </tr>\n",
       "    <tr>\n",
       "      <th>...</th>\n",
       "      <td>...</td>\n",
       "      <td>...</td>\n",
       "    </tr>\n",
       "    <tr>\n",
       "      <th>2995</th>\n",
       "      <td>5513</td>\n",
       "      <td>-119.507791</td>\n",
       "    </tr>\n",
       "    <tr>\n",
       "      <th>2996</th>\n",
       "      <td>12429</td>\n",
       "      <td>110.404776</td>\n",
       "    </tr>\n",
       "    <tr>\n",
       "      <th>2997</th>\n",
       "      <td>6164</td>\n",
       "      <td>-186.527689</td>\n",
       "    </tr>\n",
       "    <tr>\n",
       "      <th>2998</th>\n",
       "      <td>8702</td>\n",
       "      <td>-42.581296</td>\n",
       "    </tr>\n",
       "    <tr>\n",
       "      <th>2999</th>\n",
       "      <td>7577</td>\n",
       "      <td>-23.039420</td>\n",
       "    </tr>\n",
       "  </tbody>\n",
       "</table>\n",
       "<p>3000 rows × 2 columns</p>\n",
       "</div>"
      ],
      "text/plain": [
       "         id           y\n",
       "0     10410   92.265183\n",
       "1       718 -225.260018\n",
       "2      5931  151.925127\n",
       "3      4083  -90.634372\n",
       "4       210  -44.455224\n",
       "...     ...         ...\n",
       "2995   5513 -119.507791\n",
       "2996  12429  110.404776\n",
       "2997   6164 -186.527689\n",
       "2998   8702  -42.581296\n",
       "2999   7577  -23.039420\n",
       "\n",
       "[3000 rows x 2 columns]"
      ]
     },
     "execution_count": 11,
     "metadata": {},
     "output_type": "execute_result"
    }
   ],
   "source": [
    "submission_7"
   ]
  }
 ],
 "metadata": {
  "kernelspec": {
   "display_name": "Python 3",
   "language": "python",
   "name": "python3"
  },
  "language_info": {
   "codemirror_mode": {
    "name": "ipython",
    "version": 3
   },
   "file_extension": ".py",
   "mimetype": "text/x-python",
   "name": "python",
   "nbconvert_exporter": "python",
   "pygments_lexer": "ipython3",
   "version": "3.10.10"
  },
  "papermill": {
   "default_parameters": {},
   "duration": 17.766726,
   "end_time": "2023-05-17T20:09:49.685533",
   "environment_variables": {},
   "exception": null,
   "input_path": "__notebook__.ipynb",
   "output_path": "__notebook__.ipynb",
   "parameters": {},
   "start_time": "2023-05-17T20:09:31.918807",
   "version": "2.4.0"
  }
 },
 "nbformat": 4,
 "nbformat_minor": 5
}
